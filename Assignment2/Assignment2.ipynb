{
 "cells": [
  {
   "cell_type": "code",
   "execution_count": null,
   "id": "cadaab5d",
   "metadata": {},
   "outputs": [],
   "source": [
    "#Task 1 Data Preprocessing\n"
   ]
  },
  {
   "cell_type": "code",
   "execution_count": null,
   "id": "1a27cef6",
   "metadata": {},
   "outputs": [],
   "source": [
    "#Task 2 Feature Engineering"
   ]
  },
  {
   "cell_type": "code",
   "execution_count": null,
   "id": "1c3f8b81",
   "metadata": {},
   "outputs": [],
   "source": [
    "#Task 3 Naive Bayes Classification"
   ]
  },
  {
   "cell_type": "code",
   "execution_count": null,
   "id": "d30ee00f",
   "metadata": {},
   "outputs": [],
   "source": [
    "#Task 4 Logistic Regression Classification"
   ]
  },
  {
   "cell_type": "code",
   "execution_count": null,
   "id": "a467d5ca",
   "metadata": {},
   "outputs": [],
   "source": [
    "#Task 5 Model Comparison and Analysis"
   ]
  }
 ],
 "metadata": {
  "language_info": {
   "name": "python"
  }
 },
 "nbformat": 4,
 "nbformat_minor": 5
}
