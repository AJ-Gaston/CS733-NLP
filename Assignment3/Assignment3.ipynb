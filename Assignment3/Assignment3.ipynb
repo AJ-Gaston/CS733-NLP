{
 "cells": [
  {
   "cell_type": "code",
   "execution_count": null,
   "id": "a6367b4a",
   "metadata": {},
   "outputs": [],
   "source": [
    "#importing the dataset\n",
    "import csv\n",
    "with open('transcripts.csv', encoding='latin-1') as TED_transcript:\n",
    "    transcript_csv = csv.reader(TED_transcript)\n",
    "    transcripts = list(transcript_csv)\n",
    "    \n",
    "#Converting the csv file to a list of strings (get rid of the url) and eliminating the second column\n",
    "transcript_data = [t[0] for t in transcripts]\n",
    "#Sanity check\n",
    "#print(type(transcript_data))"
   ]
  },
  {
   "cell_type": "code",
   "execution_count": 3,
   "id": "0bdd843d",
   "metadata": {},
   "outputs": [],
   "source": [
    "#Preprocessing the data\n",
    "import re\n",
    "import nltk\n",
    "from nltk.tokenize import word_tokenize\n",
    "from nltk.corpus import stopwords\n",
    "regex = re.compile(r'[^\\w\\s]*') #regular expression to get rid of punctuation marks\n",
    "\n",
    "def preprocessing(text):\n",
    "    \"\"\"\n",
    "    Preprocesses text in a list of strings (removes punctuation, lowers words, tokenizes it and removes stop words from the list)\n",
    "\n",
    "    Args:\n",
    "        text: every string in the list of strings for the csv file\n",
    "\n",
    "    Returns:\n",
    "        processed_text: the text after preprocessing\n",
    "    \"\"\"\n",
    "    word_tokens = word_tokenize(text)\n",
    "    stop_words = set(stopwords.words(\"english\"))\n",
    "    filtered_words = [word for word in word_tokens if word.lower() not in stop_words]\n",
    "    processed_text = filtered_words\n",
    "    processed_text = re.sub(regex,'', str(filtered_words))\n",
    "    processed_text = processed_text.lower()\n",
    "    return processed_text\n",
    "\n",
    "for line in transcript_data:\n",
    "    preprocessing(line)"
   ]
  },
  {
   "cell_type": "code",
   "execution_count": null,
   "id": "055f4a3b",
   "metadata": {},
   "outputs": [],
   "source": [
    "#Corpus creation\n"
   ]
  },
  {
   "cell_type": "code",
   "execution_count": null,
   "id": "81a125e4",
   "metadata": {},
   "outputs": [],
   "source": [
    "#Word2Vec"
   ]
  },
  {
   "cell_type": "code",
   "execution_count": null,
   "id": "70ac2dee",
   "metadata": {},
   "outputs": [],
   "source": [
    "#PPMI"
   ]
  },
  {
   "cell_type": "code",
   "execution_count": null,
   "id": "5c6bb23b",
   "metadata": {},
   "outputs": [],
   "source": [
    "#TF-IDF"
   ]
  },
  {
   "cell_type": "code",
   "execution_count": null,
   "id": "452b7e38",
   "metadata": {},
   "outputs": [],
   "source": [
    "#Select word pairs"
   ]
  },
  {
   "cell_type": "code",
   "execution_count": null,
   "id": "3d76b995",
   "metadata": {},
   "outputs": [],
   "source": [
    "#Cosine similarity"
   ]
  },
  {
   "cell_type": "code",
   "execution_count": null,
   "id": "cd6276b3",
   "metadata": {},
   "outputs": [],
   "source": [
    "#Heatmap Analysis\n",
    "import sklearn"
   ]
  },
  {
   "cell_type": "markdown",
   "id": "31f8e5d7",
   "metadata": {},
   "source": [
    "Analysis from Heatmap"
   ]
  }
 ],
 "metadata": {
  "kernelspec": {
   "display_name": "Python 3",
   "language": "python",
   "name": "python3"
  },
  "language_info": {
   "codemirror_mode": {
    "name": "ipython",
    "version": 3
   },
   "file_extension": ".py",
   "mimetype": "text/x-python",
   "name": "python",
   "nbconvert_exporter": "python",
   "pygments_lexer": "ipython3",
   "version": "3.13.0"
  }
 },
 "nbformat": 4,
 "nbformat_minor": 5
}
