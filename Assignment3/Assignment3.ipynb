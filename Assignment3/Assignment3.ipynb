{
 "cells": [
  {
   "cell_type": "code",
   "execution_count": null,
   "id": "a6367b4a",
   "metadata": {},
   "outputs": [
    {
     "name": "stdout",
     "output_type": "stream",
     "text": [
      "<class 'list'>\n"
     ]
    }
   ],
   "source": [
    "#importing the dataset\n",
    "import csv\n",
    "with open('transcripts.csv', encoding='latin-1') as TED_transcript:\n",
    "    transcript_csv = csv.reader(TED_transcript)\n",
    "    transcripts = list(transcript_csv)\n",
    "    \n",
    "#Converting to a list of strings\n",
    "transcript_data = [t[0] for t in transcripts]\n",
    "print(type(transcript_data))"
   ]
  },
  {
   "cell_type": "code",
   "execution_count": null,
   "id": "0bdd843d",
   "metadata": {},
   "outputs": [],
   "source": [
    "#Preprocessing the data\n",
    "import re\n",
    "regex = re.compile(r'[^\\w\\s]*') #regular expression to get rid of punctuation marks\n",
    "\n"
   ]
  },
  {
   "cell_type": "code",
   "execution_count": null,
   "id": "055f4a3b",
   "metadata": {},
   "outputs": [],
   "source": [
    "#Corpus creation\n"
   ]
  },
  {
   "cell_type": "code",
   "execution_count": null,
   "id": "81a125e4",
   "metadata": {},
   "outputs": [],
   "source": [
    "#Word2Vec"
   ]
  },
  {
   "cell_type": "code",
   "execution_count": null,
   "id": "70ac2dee",
   "metadata": {},
   "outputs": [],
   "source": [
    "#PPMI"
   ]
  },
  {
   "cell_type": "code",
   "execution_count": null,
   "id": "5c6bb23b",
   "metadata": {},
   "outputs": [],
   "source": [
    "#TF-IDF"
   ]
  },
  {
   "cell_type": "code",
   "execution_count": null,
   "id": "452b7e38",
   "metadata": {},
   "outputs": [],
   "source": [
    "#Select word pairs"
   ]
  },
  {
   "cell_type": "code",
   "execution_count": null,
   "id": "3d76b995",
   "metadata": {},
   "outputs": [],
   "source": [
    "#Cosine similarity"
   ]
  },
  {
   "cell_type": "code",
   "execution_count": null,
   "id": "cd6276b3",
   "metadata": {},
   "outputs": [],
   "source": [
    "#Heatmap Analysis\n",
    "import sklearn"
   ]
  },
  {
   "cell_type": "markdown",
   "id": "31f8e5d7",
   "metadata": {},
   "source": [
    "Analysis from Heatmap"
   ]
  }
 ],
 "metadata": {
  "kernelspec": {
   "display_name": "Python 3",
   "language": "python",
   "name": "python3"
  },
  "language_info": {
   "codemirror_mode": {
    "name": "ipython",
    "version": 3
   },
   "file_extension": ".py",
   "mimetype": "text/x-python",
   "name": "python",
   "nbconvert_exporter": "python",
   "pygments_lexer": "ipython3",
   "version": "3.13.0"
  }
 },
 "nbformat": 4,
 "nbformat_minor": 5
}
