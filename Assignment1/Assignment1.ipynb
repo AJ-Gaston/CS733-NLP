{
 "cells": [
  {
   "cell_type": "code",
   "execution_count": 9,
   "id": "713e7782",
   "metadata": {},
   "outputs": [
    {
     "name": "stdout",
     "output_type": "stream",
     "text": [
      "Requirement already satisfied: nltk in /Library/Frameworks/Python.framework/Versions/3.13/lib/python3.13/site-packages (3.9.1)\n",
      "Requirement already satisfied: click in /Library/Frameworks/Python.framework/Versions/3.13/lib/python3.13/site-packages (from nltk) (8.2.1)\n",
      "Requirement already satisfied: joblib in /Library/Frameworks/Python.framework/Versions/3.13/lib/python3.13/site-packages (from nltk) (1.5.2)\n",
      "Requirement already satisfied: regex>=2021.8.3 in /Library/Frameworks/Python.framework/Versions/3.13/lib/python3.13/site-packages (from nltk) (2025.9.1)\n",
      "Requirement already satisfied: tqdm in /Library/Frameworks/Python.framework/Versions/3.13/lib/python3.13/site-packages (from nltk) (4.67.1)\n",
      "Note: you may need to restart the kernel to use updated packages.\n",
      "Requirement already satisfied: scikit-learn in /Library/Frameworks/Python.framework/Versions/3.13/lib/python3.13/site-packages (1.7.1)\n",
      "Requirement already satisfied: numpy>=1.22.0 in /Library/Frameworks/Python.framework/Versions/3.13/lib/python3.13/site-packages (from scikit-learn) (2.3.2)\n",
      "Requirement already satisfied: scipy>=1.8.0 in /Library/Frameworks/Python.framework/Versions/3.13/lib/python3.13/site-packages (from scikit-learn) (1.16.1)\n",
      "Requirement already satisfied: joblib>=1.2.0 in /Library/Frameworks/Python.framework/Versions/3.13/lib/python3.13/site-packages (from scikit-learn) (1.5.2)\n",
      "Requirement already satisfied: threadpoolctl>=3.1.0 in /Library/Frameworks/Python.framework/Versions/3.13/lib/python3.13/site-packages (from scikit-learn) (3.6.0)\n",
      "Note: you may need to restart the kernel to use updated packages.\n",
      "Requirement already satisfied: pandas in /Library/Frameworks/Python.framework/Versions/3.13/lib/python3.13/site-packages (2.3.2)\n",
      "Requirement already satisfied: numpy>=1.26.0 in /Library/Frameworks/Python.framework/Versions/3.13/lib/python3.13/site-packages (from pandas) (2.3.2)\n",
      "Requirement already satisfied: python-dateutil>=2.8.2 in /Library/Frameworks/Python.framework/Versions/3.13/lib/python3.13/site-packages (from pandas) (2.9.0.post0)\n",
      "Requirement already satisfied: pytz>=2020.1 in /Library/Frameworks/Python.framework/Versions/3.13/lib/python3.13/site-packages (from pandas) (2025.2)\n",
      "Requirement already satisfied: tzdata>=2022.7 in /Library/Frameworks/Python.framework/Versions/3.13/lib/python3.13/site-packages (from pandas) (2025.2)\n",
      "Requirement already satisfied: six>=1.5 in /Library/Frameworks/Python.framework/Versions/3.13/lib/python3.13/site-packages (from python-dateutil>=2.8.2->pandas) (1.17.0)\n",
      "Note: you may need to restart the kernel to use updated packages.\n",
      "Collecting wordcloud\n",
      "  Downloading wordcloud-1.9.4-cp313-cp313-macosx_11_0_arm64.whl.metadata (3.4 kB)\n",
      "Requirement already satisfied: numpy>=1.6.1 in /Library/Frameworks/Python.framework/Versions/3.13/lib/python3.13/site-packages (from wordcloud) (2.3.2)\n",
      "Requirement already satisfied: pillow in /Library/Frameworks/Python.framework/Versions/3.13/lib/python3.13/site-packages (from wordcloud) (11.3.0)\n",
      "Requirement already satisfied: matplotlib in /Library/Frameworks/Python.framework/Versions/3.13/lib/python3.13/site-packages (from wordcloud) (3.10.6)\n",
      "Requirement already satisfied: contourpy>=1.0.1 in /Library/Frameworks/Python.framework/Versions/3.13/lib/python3.13/site-packages (from matplotlib->wordcloud) (1.3.3)\n",
      "Requirement already satisfied: cycler>=0.10 in /Library/Frameworks/Python.framework/Versions/3.13/lib/python3.13/site-packages (from matplotlib->wordcloud) (0.12.1)\n",
      "Requirement already satisfied: fonttools>=4.22.0 in /Library/Frameworks/Python.framework/Versions/3.13/lib/python3.13/site-packages (from matplotlib->wordcloud) (4.59.2)\n",
      "Requirement already satisfied: kiwisolver>=1.3.1 in /Library/Frameworks/Python.framework/Versions/3.13/lib/python3.13/site-packages (from matplotlib->wordcloud) (1.4.9)\n",
      "Requirement already satisfied: packaging>=20.0 in /Library/Frameworks/Python.framework/Versions/3.13/lib/python3.13/site-packages (from matplotlib->wordcloud) (24.2)\n",
      "Requirement already satisfied: pyparsing>=2.3.1 in /Library/Frameworks/Python.framework/Versions/3.13/lib/python3.13/site-packages (from matplotlib->wordcloud) (3.2.3)\n",
      "Requirement already satisfied: python-dateutil>=2.7 in /Library/Frameworks/Python.framework/Versions/3.13/lib/python3.13/site-packages (from matplotlib->wordcloud) (2.9.0.post0)\n",
      "Requirement already satisfied: six>=1.5 in /Library/Frameworks/Python.framework/Versions/3.13/lib/python3.13/site-packages (from python-dateutil>=2.7->matplotlib->wordcloud) (1.17.0)\n",
      "Downloading wordcloud-1.9.4-cp313-cp313-macosx_11_0_arm64.whl (167 kB)\n",
      "Installing collected packages: wordcloud\n",
      "Successfully installed wordcloud-1.9.4\n",
      "Note: you may need to restart the kernel to use updated packages.\n"
     ]
    }
   ],
   "source": [
    "%pip install nltk\n",
    "%pip install scikit-learn\n",
    "%pip install pandas\n",
    "%pip install wordcloud"
   ]
  },
  {
   "cell_type": "code",
   "execution_count": 10,
   "id": "ec366e74",
   "metadata": {},
   "outputs": [],
   "source": [
    "import nltk\n",
    "import sklearn\n",
    "import matplotlib.pyplot as plt\n",
    "import pandas as pd"
   ]
  },
  {
   "cell_type": "code",
   "execution_count": 11,
   "id": "9df46076",
   "metadata": {},
   "outputs": [
    {
     "name": "stdout",
     "output_type": "stream",
     "text": [
      "  According to Gran , the company has no plans to move all production to Russia , although that is where the company is growing .\n",
      "0  Technopolis plans to develop in stages an area...                                                                             \n",
      "1  The international electronic industry company ...                                                                             \n",
      "2  With the new production plant the company woul...                                                                             \n",
      "3  According to the company 's updated strategy f...                                                                             \n",
      "4  FINANCING OF ASPOCOMP 'S GROWTH Aspocomp is ag...                                                                             \n",
      "(4845, 1)\n"
     ]
    }
   ],
   "source": [
    "#get the data from the kaggledata_archive for n-grams (using all-data.csv)\n",
    "financial_df = pd.read_csv('./kaggledata_archive/all-data.csv', encoding='latin-1')\n",
    "\n",
    "#dropping the sentiment column in csv\n",
    "financial_csv = financial_df.drop(financial_df.columns[0], axis=1)\n",
    "\n",
    "#Looking at basic info (the head nad shape of the csv file)\n",
    "print(financial_csv.head())\n",
    "print(financial_csv.shape)\n"
   ]
  },
  {
   "cell_type": "code",
   "execution_count": null,
   "id": "cd516f37",
   "metadata": {},
   "outputs": [],
   "source": [
    "#Task 1: N-gram Generation\n",
    "import pandas as pd\n",
    "from nltk.tokenize import word_tokenize\n",
    "from collections import Counter\n",
    "from wordcloud import WordCloud\n",
    "\n",
    "#Task 1: N-gram Generation\n",
    "def n_gram_generation(csv_file, number_of_words: int) -> list[tuple[str]]:\n",
    "    \"\"\"A function that extracts a certain words from the csv file \n",
    "        into a list of tuple of strings\n",
    "\n",
    "    Args:\n",
    "        csv_file (pandas dataframe): a dataframe of a csv file containing all the financial headlines\n",
    "        number_of_words (integer): the number of words to put in each tuple element \n",
    "\n",
    "    Returns:\n",
    "        n_grams: a list of a tuple of all the words from the csv_file for each n-gram model\n",
    "    \"\"\"\n",
    "    tokens = word_tokenize(csv_file) #tokenize all the words in the csv_file\n",
    "    ngrams = [tuple(tokens[i:i + number_of_words]) for i in range(len(tokens) - number_of_words + 1)]\n",
    "    return ngrams\n",
    "\n",
    "    \n",
    "unigram_model = n_gram_generation(financial_csv, 1)\n",
    "bigram_model = n_gram_generation(financial_csv, 2)\n",
    "trigram_model = n_gram_generation(financial_csv,3)\n",
    "\n"
   ]
  },
  {
   "cell_type": "code",
   "execution_count": null,
   "id": "4cb45006",
   "metadata": {},
   "outputs": [],
   "source": [
    "#Task 2: N-Gram Modeling\n",
    "\n",
    "#This is the function to calculate perplexity\n",
    "def calculate_perplexity():\n",
    "    perplexity = 0\n",
    "    return perplexity\n",
    "\n",
    "#Printing the perplexity of each n-gram model\n",
    "print(calculate_perplexity(unigram_model))\n",
    "print(calculate_perplexity(bigram_model))\n",
    "print(calculate_perplexity(trigram_model))"
   ]
  },
  {
   "cell_type": "code",
   "execution_count": null,
   "id": "68b18130",
   "metadata": {},
   "outputs": [],
   "source": [
    "#Task 3: Handling unseen n-grams\n",
    "\n",
    "def laplace_smoothing():\n",
    "    return\n",
    "\n",
    "#Plotting the laplace smoothing of the n-gram models"
   ]
  },
  {
   "cell_type": "code",
   "execution_count": null,
   "id": "d1a19b8a",
   "metadata": {},
   "outputs": [],
   "source": [
    "#Task 4: Interpolation\n",
    "def interpolation():\n",
    "    return\n",
    "\n",
    "#Plotting the interpolated models vs the laplace smoothed models"
   ]
  },
  {
   "cell_type": "markdown",
   "id": "f8ee7690",
   "metadata": {},
   "source": []
  }
 ],
 "metadata": {
  "kernelspec": {
   "display_name": "Python 3",
   "language": "python",
   "name": "python3"
  },
  "language_info": {
   "codemirror_mode": {
    "name": "ipython",
    "version": 3
   },
   "file_extension": ".py",
   "mimetype": "text/x-python",
   "name": "python",
   "nbconvert_exporter": "python",
   "pygments_lexer": "ipython3",
   "version": "3.13.0"
  }
 },
 "nbformat": 4,
 "nbformat_minor": 5
}
