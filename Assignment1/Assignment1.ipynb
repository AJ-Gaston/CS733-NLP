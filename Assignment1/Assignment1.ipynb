{
 "cells": [
  {
   "cell_type": "code",
   "execution_count": null,
   "id": "ec366e74",
   "metadata": {},
   "outputs": [],
   "source": [
    "import nltk\n",
    "import sklearn\n",
    "import matplotlib as plt"
   ]
  },
  {
   "cell_type": "code",
   "execution_count": null,
   "id": "9df46076",
   "metadata": {},
   "outputs": [],
   "source": [
    "#Task 1: N-gram Generation"
   ]
  },
  {
   "cell_type": "code",
   "execution_count": null,
   "id": "4cb45006",
   "metadata": {},
   "outputs": [],
   "source": [
    "#Task 2: N-Gram Modeling"
   ]
  },
  {
   "cell_type": "code",
   "execution_count": null,
   "id": "68b18130",
   "metadata": {},
   "outputs": [],
   "source": [
    "#Task 3: Handling unseen n-grams"
   ]
  },
  {
   "cell_type": "code",
   "execution_count": null,
   "id": "d1a19b8a",
   "metadata": {},
   "outputs": [],
   "source": [
    "#Task 4: Interpolation"
   ]
  }
 ],
 "metadata": {
  "language_info": {
   "name": "python"
  }
 },
 "nbformat": 4,
 "nbformat_minor": 5
}
