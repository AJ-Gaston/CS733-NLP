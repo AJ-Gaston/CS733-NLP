{
 "cells": [
  {
   "cell_type": "code",
   "execution_count": 31,
   "id": "713e7782",
   "metadata": {},
   "outputs": [
    {
     "name": "stdout",
     "output_type": "stream",
     "text": [
      "Requirement already satisfied: nltk in /Library/Frameworks/Python.framework/Versions/3.13/lib/python3.13/site-packages (3.9.1)\n",
      "Requirement already satisfied: click in /Library/Frameworks/Python.framework/Versions/3.13/lib/python3.13/site-packages (from nltk) (8.2.1)\n",
      "Requirement already satisfied: joblib in /Library/Frameworks/Python.framework/Versions/3.13/lib/python3.13/site-packages (from nltk) (1.5.2)\n",
      "Requirement already satisfied: regex>=2021.8.3 in /Library/Frameworks/Python.framework/Versions/3.13/lib/python3.13/site-packages (from nltk) (2025.9.1)\n",
      "Requirement already satisfied: tqdm in /Library/Frameworks/Python.framework/Versions/3.13/lib/python3.13/site-packages (from nltk) (4.67.1)\n",
      "Note: you may need to restart the kernel to use updated packages.\n",
      "Requirement already satisfied: scikit-learn in /Library/Frameworks/Python.framework/Versions/3.13/lib/python3.13/site-packages (1.7.1)\n",
      "Requirement already satisfied: numpy>=1.22.0 in /Library/Frameworks/Python.framework/Versions/3.13/lib/python3.13/site-packages (from scikit-learn) (2.3.2)\n",
      "Requirement already satisfied: scipy>=1.8.0 in /Library/Frameworks/Python.framework/Versions/3.13/lib/python3.13/site-packages (from scikit-learn) (1.16.1)\n",
      "Requirement already satisfied: joblib>=1.2.0 in /Library/Frameworks/Python.framework/Versions/3.13/lib/python3.13/site-packages (from scikit-learn) (1.5.2)\n",
      "Requirement already satisfied: threadpoolctl>=3.1.0 in /Library/Frameworks/Python.framework/Versions/3.13/lib/python3.13/site-packages (from scikit-learn) (3.6.0)\n",
      "Note: you may need to restart the kernel to use updated packages.\n",
      "Requirement already satisfied: wordcloud in /Library/Frameworks/Python.framework/Versions/3.13/lib/python3.13/site-packages (1.9.4)\n",
      "Requirement already satisfied: numpy>=1.6.1 in /Library/Frameworks/Python.framework/Versions/3.13/lib/python3.13/site-packages (from wordcloud) (2.3.2)\n",
      "Requirement already satisfied: pillow in /Library/Frameworks/Python.framework/Versions/3.13/lib/python3.13/site-packages (from wordcloud) (11.3.0)\n",
      "Requirement already satisfied: matplotlib in /Library/Frameworks/Python.framework/Versions/3.13/lib/python3.13/site-packages (from wordcloud) (3.10.6)\n",
      "Requirement already satisfied: contourpy>=1.0.1 in /Library/Frameworks/Python.framework/Versions/3.13/lib/python3.13/site-packages (from matplotlib->wordcloud) (1.3.3)\n",
      "Requirement already satisfied: cycler>=0.10 in /Library/Frameworks/Python.framework/Versions/3.13/lib/python3.13/site-packages (from matplotlib->wordcloud) (0.12.1)\n",
      "Requirement already satisfied: fonttools>=4.22.0 in /Library/Frameworks/Python.framework/Versions/3.13/lib/python3.13/site-packages (from matplotlib->wordcloud) (4.59.2)\n",
      "Requirement already satisfied: kiwisolver>=1.3.1 in /Library/Frameworks/Python.framework/Versions/3.13/lib/python3.13/site-packages (from matplotlib->wordcloud) (1.4.9)\n",
      "Requirement already satisfied: packaging>=20.0 in /Library/Frameworks/Python.framework/Versions/3.13/lib/python3.13/site-packages (from matplotlib->wordcloud) (24.2)\n",
      "Requirement already satisfied: pyparsing>=2.3.1 in /Library/Frameworks/Python.framework/Versions/3.13/lib/python3.13/site-packages (from matplotlib->wordcloud) (3.2.3)\n",
      "Requirement already satisfied: python-dateutil>=2.7 in /Library/Frameworks/Python.framework/Versions/3.13/lib/python3.13/site-packages (from matplotlib->wordcloud) (2.9.0.post0)\n",
      "Requirement already satisfied: six>=1.5 in /Library/Frameworks/Python.framework/Versions/3.13/lib/python3.13/site-packages (from python-dateutil>=2.7->matplotlib->wordcloud) (1.17.0)\n",
      "Note: you may need to restart the kernel to use updated packages.\n"
     ]
    }
   ],
   "source": [
    "%pip install nltk\n",
    "%pip install scikit-learn\n",
    "%pip install wordcloud"
   ]
  },
  {
   "cell_type": "code",
   "execution_count": 32,
   "id": "ec366e74",
   "metadata": {},
   "outputs": [],
   "source": [
    "import nltk\n",
    "#I added this because of a lookup error for nltk\n",
    "#nltk.download()\n",
    "import sklearn\n",
    "import matplotlib.pyplot as plt\n",
    "import csv"
   ]
  },
  {
   "cell_type": "code",
   "execution_count": null,
   "id": "9df46076",
   "metadata": {},
   "outputs": [
    {
     "ename": "AttributeError",
     "evalue": "'list' object has no attribute 'str'",
     "output_type": "error",
     "traceback": [
      "\u001b[0;31m---------------------------------------------------------------------------\u001b[0m",
      "\u001b[0;31mAttributeError\u001b[0m                            Traceback (most recent call last)",
      "Cell \u001b[0;32mIn[78], line 8\u001b[0m\n\u001b[1;32m      6\u001b[0m     finance \u001b[38;5;241m=\u001b[39m \u001b[38;5;28mlist\u001b[39m(financial_csv)\n\u001b[1;32m      7\u001b[0m     \u001b[38;5;28;01mfor\u001b[39;00m f \u001b[38;5;129;01min\u001b[39;00m finance:\n\u001b[0;32m----> 8\u001b[0m         \u001b[43mf\u001b[49m\u001b[38;5;241;43m.\u001b[39;49m\u001b[43mstr\u001b[49m\u001b[38;5;241m.\u001b[39mreplace(\u001b[38;5;124mr\u001b[39m\u001b[38;5;124m\"\u001b[39m\u001b[38;5;124m[^\u001b[39m\u001b[38;5;124m\\\u001b[39m\u001b[38;5;124mw\u001b[39m\u001b[38;5;124m\\\u001b[39m\u001b[38;5;124ms,]*\u001b[39m\u001b[38;5;124m\"\u001b[39m, \u001b[38;5;124m\"\u001b[39m\u001b[38;5;124m\"\u001b[39m, regex\u001b[38;5;241m=\u001b[39m\u001b[38;5;28;01mTrue\u001b[39;00m)\n\u001b[1;32m     10\u001b[0m csv_data: \u001b[38;5;28mlist\u001b[39m[\u001b[38;5;28mstr\u001b[39m] \u001b[38;5;241m=\u001b[39m [t[\u001b[38;5;241m1\u001b[39m] \u001b[38;5;28;01mfor\u001b[39;00m t \u001b[38;5;129;01min\u001b[39;00m finance]\n",
      "\u001b[0;31mAttributeError\u001b[0m: 'list' object has no attribute 'str'"
     ]
    }
   ],
   "source": [
    "#get the data from the kaggledata_archive for n-grams (using all-data.csv)\n",
    "import re\n",
    "regex = re.compile(r'[^\\w\\s,]*')\n",
    "with open('./kaggledata_archive/all-data.csv', encoding='latin-1') as original_csv:\n",
    "    financial_csv = csv.reader(original_csv)\n",
    "    finance = list(financial_csv)\n",
    "    \n",
    "        \n",
    "csv_data: list[str] = [t[1] for t in finance]\n",
    "\n",
    "#Get rid of the first column of csv file\n",
    "\n"
   ]
  },
  {
   "cell_type": "code",
   "execution_count": 72,
   "id": "cd516f37",
   "metadata": {},
   "outputs": [
    {
     "name": "stdout",
     "output_type": "stream",
     "text": [
      "[('.',), ('the',), (',',), ('of',), ('in',), ('and',), ('to',), ('a',), ('The',), ('for',)]\n",
      "[('.', 'The'), ('in', 'the'), ('of', 'the'), (',', 'the'), ('for', 'the'), ('the', 'company'), (',', 'and'), ('will', 'be'), ('to', 'the'), ('to', 'EUR')]\n",
      "[('.', 'The', 'company'), ('mn', 'in', 'the'), (',', 'the', 'company'), ('the', 'corresponding', 'period'), ('the', 'company', \"'s\"), ('.', 'Operating', 'profit'), ('corresponding', 'period', 'in'), ('.', 'According', 'to'), ('as', 'well', 'as'), ('mn', 'from', 'EUR')]\n"
     ]
    }
   ],
   "source": [
    "#Task 1: N-gram Generation\n",
    "import pandas as pd\n",
    "from nltk.tokenize import word_tokenize\n",
    "from collections import Counter\n",
    "\n",
    "#Task 1: N-gram Generation\n",
    "def n_gram_generation(csv_data: list[str], number_of_words: int) -> tuple[[str]]:\n",
    "    \"\"\"A function that extracts a certain words from the csv file \n",
    "        into a list of tuple of strings\n",
    "\n",
    "    Args:\n",
    "        csv_file (pandas dataframe): a dataframe of a csv file containing all the financial headlines\n",
    "        number_of_words (integer): the number of words to put in each tuple element \n",
    "\n",
    "    Returns:\n",
    "        n_grams: a list of a tuple of all the words from the csv_file for each n-gram model\n",
    "    \"\"\"\n",
    "    #for text in csv_file: Only iterating through the first row for some reason\n",
    "        #tokens = word_tokenize(text)\n",
    "\n",
    "    tokens: list[str] = []\n",
    "    for line in csv_data:\n",
    "        tokens.extend(word_tokenize(line))\n",
    "    ngrams = tuple(tuple(tokens[i : i + number_of_words]) for i in range(len(tokens) - number_of_words + 1))\n",
    "    return ngrams\n",
    "    \n",
    "unigram_model: tuple[tuple[str]] = n_gram_generation(csv_data, 1)\n",
    "bigram_model = n_gram_generation(csv_data, 2)\n",
    "trigram_model = n_gram_generation(csv_data, 3)\n",
    "\n",
    "#Create the word cloud with the top 10 words for each model\n",
    "unigram_frequency = [t[0] for t in Counter(unigram_model).most_common(10)]\n",
    "print(unigram_frequency)\n",
    "bigram_frequency = [t[0] for t in Counter(bigram_model).most_common(10)]\n",
    "print(bigram_frequency)\n",
    "trigram_frequency = [t[0] for t in Counter(trigram_model).most_common(10)]\n",
    "print(trigram_frequency)\n"
   ]
  },
  {
   "cell_type": "code",
   "execution_count": null,
   "id": "36c737a9",
   "metadata": {},
   "outputs": [],
   "source": [
    "#Display the word cloud for unigram model\n",
    "from wordcloud import WordCloud\n",
    "unigram_wordCloud = WordCloud(width=800, height=400, background_color='white')\n",
    "plt.imshow(unigram_wordCloud)\n",
    "plt.title(\"Most Frequent words in Unigram Model\")\n",
    "plt.axis(\"off\")\n",
    "plt.show()"
   ]
  },
  {
   "cell_type": "code",
   "execution_count": null,
   "id": "00230488",
   "metadata": {},
   "outputs": [],
   "source": [
    "#Display the word cloud for bigram model\n",
    "from wordcloud import WordCloud\n",
    "\n",
    "bigram_wordCloud = WordCloud(width=800, height=400, background_color='white')\n",
    "plt.imshow(bigram_wordCloud)\n",
    "plt.title(\"Most Frequent words in Unigram Model\")\n",
    "plt.axis(\"off\")\n",
    "plt.show()"
   ]
  },
  {
   "cell_type": "code",
   "execution_count": null,
   "id": "b2ac668d",
   "metadata": {},
   "outputs": [],
   "source": [
    "#Display the word cloud for trigram model\n",
    "from wordcloud import WordCloud\n",
    "trigram_wordCloud = WordCloud(width=800, height=400, background_color='white')\n",
    "plt.imshow(trigram_wordCloud)\n",
    "plt.title(\"Most Frequent words in Unigram Model\")\n",
    "plt.axis(\"off\")\n",
    "plt.show()"
   ]
  },
  {
   "cell_type": "code",
   "execution_count": null,
   "id": "4cb45006",
   "metadata": {},
   "outputs": [],
   "source": [
    "#Task 2: N-Gram Modeling\n",
    "\n",
    "#This is the function to calculate perplexity\n",
    "def calculate_perplexity():\n",
    "    perplexity = 0\n",
    "    return perplexity\n",
    "\n",
    "#Printing the perplexity of each n-gram model\n",
    "print(calculate_perplexity(unigram_model))\n",
    "print(calculate_perplexity(bigram_model))\n",
    "print(calculate_perplexity(trigram_model))"
   ]
  },
  {
   "cell_type": "code",
   "execution_count": null,
   "id": "68b18130",
   "metadata": {},
   "outputs": [],
   "source": [
    "#Task 3: Handling unseen n-grams\n",
    "\n",
    "def laplace_smoothing():\n",
    "    return\n",
    "\n",
    "#Plotting the laplace smoothing of the n-gram models"
   ]
  },
  {
   "cell_type": "code",
   "execution_count": null,
   "id": "d1a19b8a",
   "metadata": {},
   "outputs": [],
   "source": [
    "#Task 4: Interpolation\n",
    "def interpolation():\n",
    "    return\n",
    "\n",
    "#Plotting the interpolated models vs the laplace smoothed models"
   ]
  },
  {
   "cell_type": "markdown",
   "id": "f8ee7690",
   "metadata": {},
   "source": []
  }
 ],
 "metadata": {
  "kernelspec": {
   "display_name": "Python 3",
   "language": "python",
   "name": "python3"
  },
  "language_info": {
   "codemirror_mode": {
    "name": "ipython",
    "version": 3
   },
   "file_extension": ".py",
   "mimetype": "text/x-python",
   "name": "python",
   "nbconvert_exporter": "python",
   "pygments_lexer": "ipython3",
   "version": "3.13.0"
  }
 },
 "nbformat": 4,
 "nbformat_minor": 5
}
